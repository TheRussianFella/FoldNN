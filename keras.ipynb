{
 "cells": [
  {
   "cell_type": "code",
   "execution_count": 1,
   "metadata": {},
   "outputs": [
    {
     "name": "stderr",
     "output_type": "stream",
     "text": [
      "Using TensorFlow backend.\n"
     ]
    }
   ],
   "source": [
    "import keras\n",
    "from Protein_Dataset import Protein_Dataset\n",
    "import numpy as np\n",
    "from keras import layers\n",
    "from keras.layers import wrappers"
   ]
  },
  {
   "cell_type": "code",
   "execution_count": 2,
   "metadata": {
    "collapsed": true
   },
   "outputs": [],
   "source": [
    "maxlen = 400\n",
    "stride = 100"
   ]
  },
  {
   "cell_type": "code",
   "execution_count": 3,
   "metadata": {},
   "outputs": [],
   "source": [
    "prots = Protein_Dataset(\"train/\", \"test/\", maxlen, stride)"
   ]
  },
  {
   "cell_type": "code",
   "execution_count": 4,
   "metadata": {
    "collapsed": true
   },
   "outputs": [],
   "source": [
    "input_classes = len(prots.acid_table)\n",
    "output_classes = len(prots.class_table) + 1"
   ]
  },
  {
   "cell_type": "code",
   "execution_count": 5,
   "metadata": {},
   "outputs": [],
   "source": [
    "inputs = layers.Input(shape=[maxlen, input_classes], dtype=np.float32)\n",
    "\n",
    "masking = layers.Masking(mask_value=np.zeros(input_classes))(inputs)\n",
    "\n",
    "bidir = wrappers.Bidirectional(layers.LSTM(64, return_sequences=True))(masking)\n",
    "\n",
    "drop = layers.Dropout(0.5)(bidir)\n",
    "\n",
    "output = wrappers.TimeDistributed(layers.Dense(output_classes))(drop)"
   ]
  },
  {
   "cell_type": "code",
   "execution_count": 6,
   "metadata": {},
   "outputs": [],
   "source": [
    "model = keras.models.Model(inputs, output)"
   ]
  },
  {
   "cell_type": "code",
   "execution_count": 7,
   "metadata": {},
   "outputs": [],
   "source": [
    "model.compile(optimizer='adam', loss='categorical_crossentropy', metrics=['accuracy'])"
   ]
  },
  {
   "cell_type": "code",
   "execution_count": 8,
   "metadata": {
    "collapsed": true
   },
   "outputs": [],
   "source": [
    "x_train, y_train = prots.get_prepared_data(train=True)"
   ]
  },
  {
   "cell_type": "code",
   "execution_count": 10,
   "metadata": {},
   "outputs": [
    {
     "name": "stdout",
     "output_type": "stream",
     "text": [
      "Epoch 1/10\n",
      "1348/1348 [==============================] - 27s - loss: 2.8160 - acc: 0.3300    \n",
      "Epoch 2/10\n",
      "1348/1348 [==============================] - 29s - loss: 4.1570 - acc: 0.4019    \n",
      "Epoch 3/10\n",
      "1348/1348 [==============================] - 30s - loss: 6.1410 - acc: 0.3171    \n",
      "Epoch 4/10\n",
      "1348/1348 [==============================] - 31s - loss: 1.4452 - acc: 0.2316    \n",
      "Epoch 5/10\n",
      "1348/1348 [==============================] - 30s - loss: 1.1994 - acc: 0.0369    \n",
      "Epoch 6/10\n",
      "1348/1348 [==============================] - 29s - loss: 0.8085 - acc: 0.0022    \n",
      "Epoch 7/10\n",
      "1348/1348 [==============================] - 29s - loss: 8.8087 - acc: 5.9464e-04    \n",
      "Epoch 8/10\n",
      "1348/1348 [==============================] - 29s - loss: 3.3544 - acc: 0.0918    \n",
      "Epoch 9/10\n",
      "1348/1348 [==============================] - 30s - loss: 1.6571 - acc: 0.2815    \n",
      "Epoch 10/10\n",
      "1348/1348 [==============================] - 30s - loss: 1.3252 - acc: 0.3319    \n"
     ]
    },
    {
     "data": {
      "text/plain": [
       "<keras.callbacks.History at 0x7f984f6bf048>"
      ]
     },
     "execution_count": 10,
     "metadata": {},
     "output_type": "execute_result"
    }
   ],
   "source": [
    "model.fit(x_train, y_train, 50, 10)"
   ]
  },
  {
   "cell_type": "code",
   "execution_count": null,
   "metadata": {
    "collapsed": true
   },
   "outputs": [],
   "source": []
  }
 ],
 "metadata": {
  "anaconda-cloud": {},
  "kernelspec": {
   "display_name": "Python [conda root]",
   "language": "python",
   "name": "conda-root-py"
  },
  "language_info": {
   "codemirror_mode": {
    "name": "ipython",
    "version": 3
   },
   "file_extension": ".py",
   "mimetype": "text/x-python",
   "name": "python",
   "nbconvert_exporter": "python",
   "pygments_lexer": "ipython3",
   "version": "3.5.2"
  }
 },
 "nbformat": 4,
 "nbformat_minor": 1
}
