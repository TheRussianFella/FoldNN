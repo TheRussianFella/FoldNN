{
 "cells": [
  {
   "cell_type": "code",
   "execution_count": 1,
   "metadata": {},
   "outputs": [],
   "source": [
    "#%env KERAS_BACKEND=theano"
   ]
  },
  {
   "cell_type": "code",
   "execution_count": 2,
   "metadata": {},
   "outputs": [
    {
     "name": "stderr",
     "output_type": "stream",
     "text": [
      "Using TensorFlow backend.\n"
     ]
    }
   ],
   "source": [
    "import keras\n",
    "from Protein_Dataset import Protein_Dataset\n",
    "import numpy as np\n",
    "from keras import layers\n",
    "from keras.layers import wrappers"
   ]
  },
  {
   "cell_type": "code",
   "execution_count": 3,
   "metadata": {
    "collapsed": true
   },
   "outputs": [],
   "source": [
    "maxlen = 400\n",
    "stride = 100"
   ]
  },
  {
   "cell_type": "code",
   "execution_count": 4,
   "metadata": {},
   "outputs": [],
   "source": [
    "prots = Protein_Dataset(\"train/\", \"test/\", maxlen, stride)"
   ]
  },
  {
   "cell_type": "code",
   "execution_count": 5,
   "metadata": {
    "collapsed": true
   },
   "outputs": [],
   "source": [
    "input_classes = len(prots.acid_table)\n",
    "output_classes = len(prots.class_table) + 1"
   ]
  },
  {
   "cell_type": "code",
   "execution_count": 6,
   "metadata": {},
   "outputs": [],
   "source": [
    "inputs = layers.Input(shape=[maxlen, input_classes], dtype=\"float32\")\n",
    "\n",
    "masking = layers.Masking(mask_value=np.zeros(input_classes))(inputs)\n",
    "\n",
    "bidir = wrappers.Bidirectional(layers.LSTM(128, return_sequences=True))(masking)\n",
    "\n",
    "output = wrappers.TimeDistributed(layers.Dense(output_classes, activation=keras.activations.softmax,\n",
    "                                                           activity_regularizer=keras.regularizers.l1_l2()))(bidir)"
   ]
  },
  {
   "cell_type": "code",
   "execution_count": 7,
   "metadata": {},
   "outputs": [],
   "source": [
    "model = keras.models.Model(inputs, output)"
   ]
  },
  {
   "cell_type": "code",
   "execution_count": 8,
   "metadata": {},
   "outputs": [],
   "source": [
    "model.compile(optimizer='adam', loss='categorical_crossentropy', metrics=['categorical_accuracy'])"
   ]
  },
  {
   "cell_type": "code",
   "execution_count": 9,
   "metadata": {},
   "outputs": [],
   "source": [
    "x_train, y_train = prots.get_prepared_data(train=True)\n",
    "x_test, y_test = prots.get_prepared_data(train=False)"
   ]
  },
  {
   "cell_type": "code",
   "execution_count": 23,
   "metadata": {},
   "outputs": [
    {
     "name": "stdout",
     "output_type": "stream",
     "text": [
      "Train on 1401 samples, validate on 153 samples\n",
      "Epoch 1/10\n",
      "1401/1401 [==============================] - 61s - loss: 251.2084 - categorical_accuracy: 0.5253 - val_loss: 246.7704 - val_categorical_accuracy: 0.5548\n",
      "Epoch 2/10\n",
      "1401/1401 [==============================] - 61s - loss: 251.2020 - categorical_accuracy: 0.5830 - val_loss: 246.7676 - val_categorical_accuracy: 0.5989\n",
      "Epoch 3/10\n",
      "1401/1401 [==============================] - 60s - loss: 251.2011 - categorical_accuracy: 0.6053 - val_loss: 246.7677 - val_categorical_accuracy: 0.5983\n",
      "Epoch 4/10\n",
      "1401/1401 [==============================] - 61s - loss: 251.2011 - categorical_accuracy: 0.6052 - val_loss: 246.7680 - val_categorical_accuracy: 0.6079\n",
      "Epoch 5/10\n",
      "1401/1401 [==============================] - 61s - loss: 251.2007 - categorical_accuracy: 0.6102 - val_loss: 246.7659 - val_categorical_accuracy: 0.6168\n",
      "Epoch 6/10\n",
      "1401/1401 [==============================] - 61s - loss: 251.2010 - categorical_accuracy: 0.6146 - val_loss: 246.7680 - val_categorical_accuracy: 0.6045\n",
      "Epoch 7/10\n",
      "1401/1401 [==============================] - 61s - loss: 251.2008 - categorical_accuracy: 0.6114 - val_loss: 246.7669 - val_categorical_accuracy: 0.6111\n",
      "Epoch 8/10\n",
      "1401/1401 [==============================] - 61s - loss: 251.2011 - categorical_accuracy: 0.6140 - val_loss: 246.7658 - val_categorical_accuracy: 0.6145\n",
      "Epoch 9/10\n",
      "1401/1401 [==============================] - 68s - loss: 251.2006 - categorical_accuracy: 0.6173 - val_loss: 246.7666 - val_categorical_accuracy: 0.6137\n",
      "Epoch 10/10\n",
      "1401/1401 [==============================] - 63s - loss: 251.2005 - categorical_accuracy: 0.6150 - val_loss: 246.7650 - val_categorical_accuracy: 0.6198\n"
     ]
    },
    {
     "data": {
      "text/plain": [
       "<keras.callbacks.History at 0x7fc3d37dcbe0>"
      ]
     },
     "execution_count": 23,
     "metadata": {},
     "output_type": "execute_result"
    }
   ],
   "source": [
    "model.fit(x_train, y_train, 50, 10, validation_data=(x_test, y_test))"
   ]
  }
 ],
 "metadata": {
  "anaconda-cloud": {},
  "kernelspec": {
   "display_name": "Python [conda root]",
   "language": "python",
   "name": "conda-root-py"
  },
  "language_info": {
   "codemirror_mode": {
    "name": "ipython",
    "version": 3
   },
   "file_extension": ".py",
   "mimetype": "text/x-python",
   "name": "python",
   "nbconvert_exporter": "python",
   "pygments_lexer": "ipython3",
   "version": "3.5.2"
  }
 },
 "nbformat": 4,
 "nbformat_minor": 1
}
